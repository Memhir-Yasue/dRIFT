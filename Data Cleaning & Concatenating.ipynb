{
 "cells": [
  {
   "cell_type": "code",
   "execution_count": 182,
   "metadata": {
    "collapsed": true
   },
   "outputs": [],
   "source": [
    "# External Python Packages\n",
    "import numpy as np\n",
    "import pandas as pd\n",
    "import matplotlib.pyplot as plt\n",
    "\n",
    "# Internal Python Packages\n",
    "import os\n",
    "import sys\n",
    "import re"
   ]
  },
  {
   "cell_type": "code",
   "execution_count": 183,
   "metadata": {
    "collapsed": false,
    "pycharm": {
     "name": "#%%\n"
    }
   },
   "outputs": [],
   "source": [
    "iowa = pd.read_csv('C:/Users/12678/OneDriveDrexelUniversity/Documents/Computer Vision Engineer/Case_Competitions/PhillyCodeFest/Iowa/3-Year_Recidivism_for_Offenders_Released_from_Prison_in_Iowa_elaborated.csv', sep=\",\")"
   ]
  },
  {
   "cell_type": "code",
   "execution_count": 184,
   "metadata": {
    "collapsed": false,
    "pycharm": {
     "name": "#%%\n"
    }
   },
   "outputs": [],
   "source": [
    "compass = pd.read_csv('C:/Users/12678/OneDriveDrexelUniversity/Documents/Computer Vision Engineer/Case_Competitions/PhillyCodeFest/compas-scores-raw/compas-scores-raw.csv', sep=\",\",index_col=0)"
   ]
  },
  {
   "cell_type": "code",
   "execution_count": 185,
   "metadata": {},
   "outputs": [
    {
     "data": {
      "text/plain": [
       "Index(['Fiscal Year Released', 'Recidivism Reporting Year', 'Race - Ethnicity',\n",
       "       'Age At Release ', 'Convicting Offense Classification',\n",
       "       'Convicting Offense Type', 'Convicting Offense Subtype',\n",
       "       'Main Supervising District', 'Release Type',\n",
       "       'Release type: Paroled to Detainder united',\n",
       "       'Part of Target Population', 'Recidivism - Return to Prison numeric'],\n",
       "      dtype='object')"
      ]
     },
     "execution_count": 185,
     "metadata": {},
     "output_type": "execute_result"
    }
   ],
   "source": [
    "iowa.columns"
   ]
  },
  {
   "cell_type": "code",
   "execution_count": 186,
   "metadata": {},
   "outputs": [],
   "source": [
    "iowa[\"Fiscal Year Released\"] = iowa[\"Fiscal Year Released\"].astype(str)\n",
    "iowa[\"Recidivism Reporting Year\"] = iowa[\"Recidivism Reporting Year\"].astype(str)\n"
   ]
  },
  {
   "cell_type": "code",
   "execution_count": 187,
   "metadata": {},
   "outputs": [
    {
     "data": {
      "image/png": "[encoded data removed]",
      "text/plain": [
       "<Figure size 432x288 with 1 Axes>"
      ]
     },
     "metadata": {
      "needs_background": "light"
     },
     "output_type": "display_data"
    }
   ],
   "source": [
    "# Seeing the Distribution of values \n",
    "\n",
    "def plot_categorical_distribution(df, column_name):\n",
    "    \"\"\"\n",
    "    Plots the distribution of a categorical column.\n",
    "    \"\"\"\n",
    "    column = df[column_name]\n",
    "\n",
    "    # Create a figure and plot the column\n",
    "    fig, ax = plt.subplots()\n",
    "    ax.hist(column, color='blue', edgecolor='black')\n",
    "    ax.set_title(column_name)\n",
    "    plt.show()\n",
    "\n",
    "plot_categorical_distribution(iowa,\"Fiscal Year Released\")"
   ]
  },
  {
   "cell_type": "code",
   "execution_count": 188,
   "metadata": {},
   "outputs": [
    {
     "name": "stdout",
     "output_type": "stream",
     "text": [
      "Fiscal Year Released\n",
      "Recidivism Reporting Year\n",
      "Race - Ethnicity\n",
      "Age At Release \n",
      "Convicting Offense Classification\n",
      "Convicting Offense Type\n",
      "Convicting Offense Subtype\n",
      "Main Supervising District\n",
      "Release Type\n",
      "Release type: Paroled to Detainder united\n",
      "Part of Target Population\n",
      "Recidivism - Return to Prison numeric\n"
     ]
    }
   ],
   "source": [
    "for x in range(len(iowa.columns)):\n",
    "    print(iowa.columns[x])\n",
    "    # print(iowa[iowa.columns[x]].unique())\n",
    "    # print(type(iowa[iowa.columns[x]].unique()[0]))"
   ]
  },
  {
   "cell_type": "code",
   "execution_count": 189,
   "metadata": {},
   "outputs": [],
   "source": [
    "# Cleaning. Distributing Null Values as a proportion of the distribution of the column. \n",
    "def distribution_as_proportion_of_column(df, column_name):\n",
    "    ''' \n",
    "     Returns the distribution of a column as a proportion of the column.'''\n",
    "     \n",
    "    missing = df[column_name].isnull()\n",
    "    distribution = df[column_name].value_counts(normalize=True)\n",
    "\n",
    "    df.loc[missing, column_name] = np.random.choice(distribution.index, size=len(df[missing]), p=distribution.values)\n",
    "\n",
    "    return df"
   ]
  },
  {
   "cell_type": "code",
   "execution_count": 190,
   "metadata": {},
   "outputs": [],
   "source": [
    "\n",
    "iowa = distribution_as_proportion_of_column(iowa,\"Age At Release \")\n"
   ]
  },
  {
   "cell_type": "code",
   "execution_count": 191,
   "metadata": {},
   "outputs": [
    {
     "name": "stdout",
     "output_type": "stream",
     "text": [
      "(26020, 12)\n",
      "(26020, 12)\n"
     ]
    }
   ],
   "source": [
    "print(iowa.shape)\n",
    "iowa.dropna()\n",
    "print(iowa.shape)"
   ]
  },
  {
   "cell_type": "markdown",
   "metadata": {},
   "source": [
    "### Simplify Column Naming Conventions"
   ]
  },
  {
   "cell_type": "code",
   "execution_count": 192,
   "metadata": {},
   "outputs": [
    {
     "data": {
      "text/plain": [
       "Index(['Fiscal Year Released', 'Recidivism Reporting Year', 'Race - Ethnicity',\n",
       "       'Age At Release ', 'Convicting Offense Classification',\n",
       "       'Convicting Offense Type', 'Convicting Offense Subtype',\n",
       "       'Main Supervising District', 'Release Type',\n",
       "       'Release type: Paroled to Detainder united',\n",
       "       'Part of Target Population', 'Recidivism - Return to Prison numeric'],\n",
       "      dtype='object')"
      ]
     },
     "execution_count": 192,
     "metadata": {},
     "output_type": "execute_result"
    }
   ],
   "source": [
    "# Printing out column values\n",
    "iowa.columns"
   ]
  },
  {
   "cell_type": "code",
   "execution_count": 193,
   "metadata": {},
   "outputs": [],
   "source": [
    "# Simplifying Names\n",
    "\n",
    "# List of New Column Names.\n",
    "Column_Names = [\"Year Released\",\n",
    "                \"Year Reviewed\",\n",
    "                \"Race\",\n",
    "                \"Age\",\n",
    "                \"Sentence\",\n",
    "                \"Offense\",\n",
    "                \"SubOffense\",\n",
    "                \"District\",\n",
    "                \"Release Type\",\n",
    "                \"Release Type Same\",\n",
    "                \"Target\",\n",
    "                \"Relapse\"\n",
    "]\n",
    "\n",
    "Renaming_Dict = dict(zip(iowa.columns, Column_Names))\n",
    "\n",
    "# Rename Rows\n",
    "iowa.rename(columns = Renaming_Dict, inplace = True)\n"
   ]
  },
  {
   "cell_type": "code",
   "execution_count": 194,
   "metadata": {},
   "outputs": [
    {
     "data": {
      "text/plain": [
       "Index(['Year Released', 'Year Reviewed', 'Race', 'Age', 'Sentence', 'Offense',\n",
       "       'SubOffense', 'District', 'Release Type', 'Release Type Same', 'Target',\n",
       "       'Relapse'],\n",
       "      dtype='object')"
      ]
     },
     "execution_count": 194,
     "metadata": {},
     "output_type": "execute_result"
    }
   ],
   "source": [
    "# Printing out column values\n",
    "iowa.columns"
   ]
  },
  {
   "cell_type": "markdown",
   "metadata": {},
   "source": [
    "### Cleaning Ethnicity Data\n"
   ]
  },
  {
   "cell_type": "code",
   "execution_count": 197,
   "metadata": {},
   "outputs": [
    {
     "data": {
      "text/plain": [
       "array(['White - Non-Hispanic', 'Black - Non-Hispanic',\n",
       "       'American Indian or Alaska Native - Non-Hispanic',\n",
       "       'White - Hispanic', 'White -',\n",
       "       'Asian or Pacific Islander - Non-Hispanic', 'Black - Hispanic',\n",
       "       'American Indian or Alaska Native - Hispanic',\n",
       "       'Asian or Pacific Islander - Hispanic', 'Black -', 'N/A -', nan],\n",
       "      dtype=object)"
      ]
     },
     "execution_count": 197,
     "metadata": {},
     "output_type": "execute_result"
    }
   ],
   "source": [
    "# Printing out unique values of Ethnicities\n",
    "iowa.Race.unique()"
   ]
  },
  {
   "cell_type": "code",
   "execution_count": null,
   "metadata": {},
   "outputs": [],
   "source": [
    "# Export Data Here... \n",
    "\n"
   ]
  }
 ],
 "metadata": {
  "kernelspec": {
   "display_name": "Python 3",
   "language": "python",
   "name": "python3"
  },
  "language_info": {
   "codemirror_mode": {
    "name": "ipython",
    "version": 3
   },
   "file_extension": ".py",
   "mimetype": "text/x-python",
   "name": "python",
   "nbconvert_exporter": "python",
   "pygments_lexer": "ipython3",
   "version": "3.8.8"
  }
 },
 "nbformat": 4,
 "nbformat_minor": 0
}
