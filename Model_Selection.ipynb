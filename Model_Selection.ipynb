{
 "cells": [
  {
   "cell_type": "markdown",
   "metadata": {},
   "source": [
    "## Notebook Purpose: Model Selection & Model Comparisons\n",
    "### Tree Based Models\n",
    "###### - XGBoost \n",
    "###### - Random Forest Classifier\n",
    "\n",
    "### Deep Neural Networks\n",
    "######   Need Synthetic data for them "
   ]
  },
  {
   "cell_type": "code",
   "execution_count": 150,
   "metadata": {},
   "outputs": [],
   "source": [
    "# Importing Libaries\n",
    "import pandas as pd\n",
    "import numpy as np\n",
    "import matplotlib.pyplot as plt\n",
    "import seaborn as sns\n",
    "from xgboost import XGBClassifier\n",
    "from sklearn.model_selection import train_test_split\n",
    "\n",
    "from sklearn.preprocessing import LabelEncoder\n",
    "from sklearn.preprocessing import OneHotEncoder\n",
    "from sklearn.metrics import accuracy_score\n",
    "\n",
    "# Internal Libraries\n",
    "import os\n",
    "import sys"
   ]
  },
  {
   "cell_type": "markdown",
   "metadata": {},
   "source": [
    "### Loading In Dataset"
   ]
  },
  {
   "cell_type": "code",
   "execution_count": 151,
   "metadata": {},
   "outputs": [],
   "source": [
    "df = pd.read_csv('C:/Users/12678/OneDriveDrexelUniversity/Documents/Computer Vision Engineer/Case_Competitions/PhillyCodeFest/dsProject/recidivism_cleaned.csv', sep=',', index_col=0)"
   ]
  },
  {
   "cell_type": "markdown",
   "metadata": {},
   "source": [
    "### Encoding Categorical Variables"
   ]
  },
  {
   "cell_type": "code",
   "execution_count": 152,
   "metadata": {},
   "outputs": [
    {
     "data": {
      "text/plain": [
       "Index(['Year Released', 'Year Reviewed', 'Race', 'Age', 'Degree', 'Offense',\n",
       "       'SubOffense', 'District', 'Release Type', 'Relapse', 'HopefulCase'],\n",
       "      dtype='object')"
      ]
     },
     "execution_count": 152,
     "metadata": {},
     "output_type": "execute_result"
    }
   ],
   "source": [
    "df.columns"
   ]
  },
  {
   "cell_type": "code",
   "execution_count": 153,
   "metadata": {},
   "outputs": [],
   "source": [
    "label_encoder = LabelEncoder()\n",
    "onehot_encoder = OneHotEncoder(sparse=False)"
   ]
  },
  {
   "cell_type": "markdown",
   "metadata": {},
   "source": [
    "#### One Hot Encoding Categorical Values"
   ]
  },
  {
   "cell_type": "code",
   "execution_count": 154,
   "metadata": {},
   "outputs": [],
   "source": [
    "# Convert Categorical columns to numpy array. \n",
    "race = np.array(df[\"Race\"])\n",
    "degree = np.array(df[\"Degree\"])\n",
    "offense = np.array(df[\"Offense\"])\n",
    "suboffense = np.array(df[\"SubOffense\"])\n",
    "district = np.array(df[\"District\"])\n",
    "release_type = np.array(df[\"Release Type\"])\n",
    "\n",
    "\n",
    "\n",
    "\n",
    "race = label_encoder.fit_transform(race)\n",
    "degree = label_encoder.fit_transform(degree)\n",
    "offense = label_encoder.fit_transform(offense)\n",
    "suboffense = label_encoder.fit_transform(suboffense)\n",
    "district = label_encoder.fit_transform(district)\n",
    "release_type = label_encoder.fit_transform(release_type)"
   ]
  },
  {
   "cell_type": "markdown",
   "metadata": {},
   "source": [
    "#### Label Encoding Categorical Values"
   ]
  },
  {
   "cell_type": "code",
   "execution_count": 155,
   "metadata": {},
   "outputs": [],
   "source": [
    "# Convert Categorical columns to numpy array. \n",
    "df[\"Year Released\"] = df[\"Year Released\"].astype('str')\n",
    "df[\"Year Reviewed\"] = df[\"Year Reviewed\"].astype('str')\n",
    "\n",
    "\n",
    "year_reviewed = np.array(df[\"Year Reviewed\"])\n",
    "year_released = np.array(df[\"Year Released\"])\n",
    "\n",
    "\n",
    "year_reviewed_encoded = label_encoder.fit_transform(year_reviewed)\n",
    "year_released_encoded = label_encoder.fit_transform(year_released)"
   ]
  },
  {
   "cell_type": "code",
   "execution_count": 156,
   "metadata": {},
   "outputs": [],
   "source": [
    "# Store binary variables as a numpy array and\n",
    "reincarcerated = np.array(df[\"Relapse\"])\n",
    "hopeful_case = np.array(df[\"HopefulCase\"])"
   ]
  },
  {
   "cell_type": "markdown",
   "metadata": {},
   "source": [
    "#### Combing all the numpy arrays"
   ]
  },
  {
   "cell_type": "code",
   "execution_count": 157,
   "metadata": {},
   "outputs": [],
   "source": [
    "# unraveling numpy array\n",
    "variables = [year_reviewed, year_released, race, degree, offense, suboffense, district, release_type, hopeful_case, reincarcerated]\n",
    "\n",
    "arr = np.zeros((16415, 10))\n",
    "\n",
    "for i in range(len(variables)):\n",
    "    arr[:, i] = variables[i]"
   ]
  },
  {
   "cell_type": "code",
   "execution_count": 158,
   "metadata": {},
   "outputs": [
    {
     "data": {
      "text/plain": [
       "(16415, 10)"
      ]
     },
     "execution_count": 158,
     "metadata": {},
     "output_type": "execute_result"
    }
   ],
   "source": [
    "arr.shape"
   ]
  },
  {
   "cell_type": "markdown",
   "metadata": {},
   "source": [
    "### XGBoost "
   ]
  },
  {
   "cell_type": "code",
   "execution_count": null,
   "metadata": {},
   "outputs": [],
   "source": [
    "X, y = arr[:, :-1], arr[:, -1]\n",
    "best_result = 0\n",
    "\n",
    "for x in range(100):\n",
    "\n",
    "    xtrain, xtest, ytrain, ytest = train_test_split(X, y, test_size=0.2, random_state=x)\n",
    "\n",
    "\n",
    "    # Implent XGBoostClassifier with pandas dataframe with X and y\n",
    "    xgb = XGBClassifier(booster='gbtree', learning_rate=0.1, max_depth=5)\n",
    "\n",
    "    # Fitting Data\n",
    "    xgb.fit(xtrain, ytrain)\n",
    "\n",
    "    y_pred = xgb.predict(xtest)\n",
    "    prediction = [round(value) for value in y_pred]\n",
    "\n",
    "    accuracy = accuracy_score(ytest, prediction)\n",
    "\n",
    "    if accuracy > best_result:\n",
    "        best_result = accuracy\n",
    "        best_xgb = xgb\n",
    "        best_x = x\n",
    "\n",
    "print(\"Accuracy: %.2f%%\" % (best_result * 100.0))\n",
    "print(\"Best X: %d\" % best_x)"
   ]
  },
  {
   "cell_type": "code",
   "execution_count": 168,
   "metadata": {},
   "outputs": [],
   "source": [
    "# Saving Model"
   ]
  }
 ],
 "metadata": {
  "interpreter": {
   "hash": "3e9f8e566fb4d65fc9d16c55cff93cabc17b492ac70c6fd446a474a084d8dc69"
  },
  "kernelspec": {
   "display_name": "Python 3.9.1 64-bit (system)",
   "language": "python",
   "name": "python3"
  },
  "language_info": {
   "codemirror_mode": {
    "name": "ipython",
    "version": 3
   },
   "file_extension": ".py",
   "mimetype": "text/x-python",
   "name": "python",
   "nbconvert_exporter": "python",
   "pygments_lexer": "ipython3",
   "version": "3.9.1"
  },
  "orig_nbformat": 4
 },
 "nbformat": 4,
 "nbformat_minor": 2
}
