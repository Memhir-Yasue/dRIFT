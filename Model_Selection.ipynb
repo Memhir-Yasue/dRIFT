{
 "cells": [
  {
   "cell_type": "markdown",
   "metadata": {},
   "source": [
    "## Notebook Purpose: Model Selection & Model Comparisons\n",
    "### Tree Based Models\n",
    "###### - XGBoost \n",
    "###### - Random Forest Classifier\n",
    "\n",
    "### Deep Neural Networks\n",
    "######   Need Synthetic data for them "
   ]
  },
  {
   "cell_type": "code",
   "execution_count": 65,
   "metadata": {},
   "outputs": [],
   "source": [
    "# Importing Libaries\n",
    "import pandas as pd\n",
    "import numpy as np\n",
    "import matplotlib.pyplot as plt\n",
    "import seaborn as sns\n",
    "from xgboost import XGBClassifier\n",
    "from sklearn.model_selection import train_test_split\n",
    "\n",
    "from sklearn.preprocessing import LabelEncoder\n",
    "from sklearn.preprocessing import OneHotEncoder\n",
    "\n",
    "\n",
    "# Internal Libraries\n",
    "import os\n",
    "import sys"
   ]
  },
  {
   "cell_type": "markdown",
   "metadata": {},
   "source": [
    "### Loading In Dataset"
   ]
  },
  {
   "cell_type": "code",
   "execution_count": 66,
   "metadata": {},
   "outputs": [],
   "source": [
    "df = pd.read_csv('C:/Users/12678/OneDriveDrexelUniversity/Documents/Computer Vision Engineer/Case_Competitions/PhillyCodeFest/dsProject/recidivism_cleaned.csv', sep=',', index_col=0)"
   ]
  },
  {
   "cell_type": "markdown",
   "metadata": {},
   "source": [
    "### Encoding Categorical Variables"
   ]
  },
  {
   "cell_type": "code",
   "execution_count": 67,
   "metadata": {},
   "outputs": [
    {
     "data": {
      "text/plain": [
       "Index(['Year Released', 'Year Reviewed', 'Race', 'Age', 'Degree', 'Offense',\n",
       "       'SubOffense', 'District', 'Release Type', 'Relapse', 'HopefulCase'],\n",
       "      dtype='object')"
      ]
     },
     "execution_count": 67,
     "metadata": {},
     "output_type": "execute_result"
    }
   ],
   "source": [
    "df.columns"
   ]
  },
  {
   "cell_type": "code",
   "execution_count": 69,
   "metadata": {},
   "outputs": [],
   "source": [
    "label_encoder = LabelEncoder()\n",
    "onehot_encoder = OneHotEncoder(sparse=False)"
   ]
  },
  {
   "cell_type": "markdown",
   "metadata": {},
   "source": [
    "#### One Hot Encoding Categorical Values"
   ]
  },
  {
   "cell_type": "code",
   "execution_count": 88,
   "metadata": {},
   "outputs": [],
   "source": [
    "# Convert Categorical columns to numpy array. \n",
    "race = np.array(df[\"Race\"])\n",
    "degree = np.array(df[\"Degree\"])\n",
    "offense = np.array(df[\"Offense\"])\n",
    "suboffense = np.array(df[\"SubOffense\"])\n",
    "district = np.array(df[\"District\"])\n",
    "release_type = np.array(df[\"Release Type\"])\n",
    "\n",
    "\n",
    "\n",
    "\n",
    "race = label_encoder.fit_transform(race)\n",
    "degree = label_encoder.fit_transform(degree)\n",
    "offense = label_encoder.fit_transform(offense)\n",
    "suboffense = label_encoder.fit_transform(suboffense)\n",
    "district = label_encoder.fit_transform(district)\n",
    "release_type = label_encoder.fit_transform(release_type)"
   ]
  },
  {
   "cell_type": "markdown",
   "metadata": {},
   "source": [
    "#### Label Encoding Categorical Values"
   ]
  },
  {
   "cell_type": "code",
   "execution_count": 89,
   "metadata": {},
   "outputs": [],
   "source": [
    "# Convert Categorical columns to numpy array. \n",
    "df[\"Year Released\"] = df[\"Year Released\"].astype('str')\n",
    "df[\"Year Reviewed\"] = df[\"Year Reviewed\"].astype('str')\n",
    "\n",
    "\n",
    "year_reviewed = np.array(df[\"Year Reviewed\"])\n",
    "year_released = np.array(df[\"Year Released\"])\n",
    "\n",
    "\n",
    "year_reviewed_encoded = label_encoder.fit_transform(year_reviewed)\n",
    "year_released_encoded = label_encoder.fit_transform(year_released)"
   ]
  },
  {
   "cell_type": "code",
   "execution_count": 90,
   "metadata": {},
   "outputs": [],
   "source": [
    "# Store binary variables as a numpy array and\n",
    "reincarcerated = np.array(df[\"Relapse\"])\n",
    "hopeful_case = np.array(df[\"HopefulCase\"])"
   ]
  },
  {
   "cell_type": "markdown",
   "metadata": {},
   "source": [
    "#### Combing all the numpy arrays"
   ]
  },
  {
   "cell_type": "code",
   "execution_count": 105,
   "metadata": {},
   "outputs": [],
   "source": [
    "# unraveling numpy array\n",
    "variables = [year_reviewed, year_released, race, degree, offense, suboffense, district, release_type, hopeful_case, reincarcerated]\n",
    "\n",
    "arr = np.zeros((16415, 10))\n",
    "\n",
    "for i in range(len(variables)):\n",
    "    arr[:, i] = variables[i]"
   ]
  },
  {
   "cell_type": "code",
   "execution_count": 108,
   "metadata": {},
   "outputs": [
    {
     "data": {
      "text/plain": [
       "(16415, 10)"
      ]
     },
     "execution_count": 108,
     "metadata": {},
     "output_type": "execute_result"
    }
   ],
   "source": [
    "arr.shape"
   ]
  },
  {
   "cell_type": "markdown",
   "metadata": {},
   "source": [
    "### XGBoost "
   ]
  },
  {
   "cell_type": "code",
   "execution_count": 29,
   "metadata": {},
   "outputs": [
    {
     "data": {
      "text/html": [
       "<div>\n",
       "<style scoped>\n",
       "    .dataframe tbody tr th:only-of-type {\n",
       "        vertical-align: middle;\n",
       "    }\n",
       "\n",
       "    .dataframe tbody tr th {\n",
       "        vertical-align: top;\n",
       "    }\n",
       "\n",
       "    .dataframe thead th {\n",
       "        text-align: right;\n",
       "    }\n",
       "</style>\n",
       "<table border=\"1\" class=\"dataframe\">\n",
       "  <thead>\n",
       "    <tr style=\"text-align: right;\">\n",
       "      <th></th>\n",
       "      <th>Year Released</th>\n",
       "      <th>Year Reviewed</th>\n",
       "      <th>Race</th>\n",
       "      <th>Age</th>\n",
       "      <th>Degree</th>\n",
       "      <th>Offense</th>\n",
       "      <th>SubOffense</th>\n",
       "      <th>District</th>\n",
       "      <th>Release Type</th>\n",
       "      <th>HopefulCase</th>\n",
       "      <th>Relapse</th>\n",
       "    </tr>\n",
       "  </thead>\n",
       "  <tbody>\n",
       "    <tr>\n",
       "      <th>0</th>\n",
       "      <td>2010</td>\n",
       "      <td>2013</td>\n",
       "      <td>White</td>\n",
       "      <td>Under 25</td>\n",
       "      <td>D Felony</td>\n",
       "      <td>Violent</td>\n",
       "      <td>Assault</td>\n",
       "      <td>4JD</td>\n",
       "      <td>Parole</td>\n",
       "      <td>1</td>\n",
       "      <td>1</td>\n",
       "    </tr>\n",
       "    <tr>\n",
       "      <th>1</th>\n",
       "      <td>2010</td>\n",
       "      <td>2013</td>\n",
       "      <td>White</td>\n",
       "      <td>55 and Older</td>\n",
       "      <td>D Felony</td>\n",
       "      <td>Public Order</td>\n",
       "      <td>OWI</td>\n",
       "      <td>7JD</td>\n",
       "      <td>Parole</td>\n",
       "      <td>1</td>\n",
       "      <td>1</td>\n",
       "    </tr>\n",
       "    <tr>\n",
       "      <th>2</th>\n",
       "      <td>2010</td>\n",
       "      <td>2013</td>\n",
       "      <td>White</td>\n",
       "      <td>25-34</td>\n",
       "      <td>D Felony</td>\n",
       "      <td>Property</td>\n",
       "      <td>Burglary</td>\n",
       "      <td>5JD</td>\n",
       "      <td>Parole</td>\n",
       "      <td>1</td>\n",
       "      <td>1</td>\n",
       "    </tr>\n",
       "    <tr>\n",
       "      <th>3</th>\n",
       "      <td>2010</td>\n",
       "      <td>2013</td>\n",
       "      <td>White</td>\n",
       "      <td>55 and Older</td>\n",
       "      <td>C Felony</td>\n",
       "      <td>Drug</td>\n",
       "      <td>Trafficking</td>\n",
       "      <td>8JD</td>\n",
       "      <td>Parole</td>\n",
       "      <td>1</td>\n",
       "      <td>1</td>\n",
       "    </tr>\n",
       "    <tr>\n",
       "      <th>4</th>\n",
       "      <td>2010</td>\n",
       "      <td>2013</td>\n",
       "      <td>Black</td>\n",
       "      <td>25-34</td>\n",
       "      <td>D Felony</td>\n",
       "      <td>Drug</td>\n",
       "      <td>Trafficking</td>\n",
       "      <td>3JD</td>\n",
       "      <td>Parole</td>\n",
       "      <td>1</td>\n",
       "      <td>1</td>\n",
       "    </tr>\n",
       "    <tr>\n",
       "      <th>...</th>\n",
       "      <td>...</td>\n",
       "      <td>...</td>\n",
       "      <td>...</td>\n",
       "      <td>...</td>\n",
       "      <td>...</td>\n",
       "      <td>...</td>\n",
       "      <td>...</td>\n",
       "      <td>...</td>\n",
       "      <td>...</td>\n",
       "      <td>...</td>\n",
       "      <td>...</td>\n",
       "    </tr>\n",
       "    <tr>\n",
       "      <th>26009</th>\n",
       "      <td>2015</td>\n",
       "      <td>2018</td>\n",
       "      <td>White</td>\n",
       "      <td>25-34</td>\n",
       "      <td>Aggravated Misdemeanor</td>\n",
       "      <td>Violent</td>\n",
       "      <td>Assault</td>\n",
       "      <td>5JD</td>\n",
       "      <td>Discharged End of Sentence</td>\n",
       "      <td>1</td>\n",
       "      <td>0</td>\n",
       "    </tr>\n",
       "    <tr>\n",
       "      <th>26011</th>\n",
       "      <td>2015</td>\n",
       "      <td>2018</td>\n",
       "      <td>White</td>\n",
       "      <td>45-54</td>\n",
       "      <td>D Felony</td>\n",
       "      <td>Public Order</td>\n",
       "      <td>OWI</td>\n",
       "      <td>7JD</td>\n",
       "      <td>Parole</td>\n",
       "      <td>0</td>\n",
       "      <td>0</td>\n",
       "    </tr>\n",
       "    <tr>\n",
       "      <th>26016</th>\n",
       "      <td>2015</td>\n",
       "      <td>2018</td>\n",
       "      <td>White</td>\n",
       "      <td>25-34</td>\n",
       "      <td>D Felony</td>\n",
       "      <td>Property</td>\n",
       "      <td>Vandalism</td>\n",
       "      <td>5JD</td>\n",
       "      <td>Paroled to Detainer - Out of State</td>\n",
       "      <td>0</td>\n",
       "      <td>0</td>\n",
       "    </tr>\n",
       "    <tr>\n",
       "      <th>26017</th>\n",
       "      <td>2015</td>\n",
       "      <td>2018</td>\n",
       "      <td>Black</td>\n",
       "      <td>Under 25</td>\n",
       "      <td>Aggravated Misdemeanor</td>\n",
       "      <td>Violent</td>\n",
       "      <td>Other Violent</td>\n",
       "      <td>1JD</td>\n",
       "      <td>Discharged End of Sentence</td>\n",
       "      <td>1</td>\n",
       "      <td>0</td>\n",
       "    </tr>\n",
       "    <tr>\n",
       "      <th>26018</th>\n",
       "      <td>2015</td>\n",
       "      <td>2018</td>\n",
       "      <td>White</td>\n",
       "      <td>Under 25</td>\n",
       "      <td>D Felony</td>\n",
       "      <td>Drug</td>\n",
       "      <td>Other Drug</td>\n",
       "      <td>5JD</td>\n",
       "      <td>Parole</td>\n",
       "      <td>0</td>\n",
       "      <td>0</td>\n",
       "    </tr>\n",
       "  </tbody>\n",
       "</table>\n",
       "<p>16415 rows × 11 columns</p>\n",
       "</div>"
      ],
      "text/plain": [
       "       Year Released  Year Reviewed   Race           Age  \\\n",
       "0               2010           2013  White      Under 25   \n",
       "1               2010           2013  White  55 and Older   \n",
       "2               2010           2013  White         25-34   \n",
       "3               2010           2013  White  55 and Older   \n",
       "4               2010           2013  Black         25-34   \n",
       "...              ...            ...    ...           ...   \n",
       "26009           2015           2018  White         25-34   \n",
       "26011           2015           2018  White         45-54   \n",
       "26016           2015           2018  White         25-34   \n",
       "26017           2015           2018  Black      Under 25   \n",
       "26018           2015           2018  White      Under 25   \n",
       "\n",
       "                       Degree       Offense     SubOffense District  \\\n",
       "0                    D Felony       Violent        Assault      4JD   \n",
       "1                    D Felony  Public Order            OWI      7JD   \n",
       "2                    D Felony      Property       Burglary      5JD   \n",
       "3                    C Felony          Drug    Trafficking      8JD   \n",
       "4                    D Felony          Drug    Trafficking      3JD   \n",
       "...                       ...           ...            ...      ...   \n",
       "26009  Aggravated Misdemeanor       Violent        Assault      5JD   \n",
       "26011                D Felony  Public Order            OWI      7JD   \n",
       "26016                D Felony      Property      Vandalism      5JD   \n",
       "26017  Aggravated Misdemeanor       Violent  Other Violent      1JD   \n",
       "26018                D Felony          Drug     Other Drug      5JD   \n",
       "\n",
       "                             Release Type  HopefulCase  Relapse  \n",
       "0                                  Parole            1        1  \n",
       "1                                  Parole            1        1  \n",
       "2                                  Parole            1        1  \n",
       "3                                  Parole            1        1  \n",
       "4                                  Parole            1        1  \n",
       "...                                   ...          ...      ...  \n",
       "26009          Discharged End of Sentence            1        0  \n",
       "26011                              Parole            0        0  \n",
       "26016  Paroled to Detainer - Out of State            0        0  \n",
       "26017          Discharged End of Sentence            1        0  \n",
       "26018                              Parole            0        0  \n",
       "\n",
       "[16415 rows x 11 columns]"
      ]
     },
     "execution_count": 29,
     "metadata": {},
     "output_type": "execute_result"
    }
   ],
   "source": [
    "# Splitting up the data from x and y\n",
    "df = df.iloc[:, [0, 1, 2, 3, 4, 5, 6, 7, 8, 10, 9]]\n",
    "\n",
    "\n",
    "df"
   ]
  },
  {
   "cell_type": "code",
   "execution_count": 114,
   "metadata": {},
   "outputs": [],
   "source": [
    "\n",
    "X, y = arr[:, :-1], arr[:, -1]"
   ]
  },
  {
   "cell_type": "code",
   "execution_count": 119,
   "metadata": {},
   "outputs": [
    {
     "name": "stdout",
     "output_type": "stream",
     "text": [
      "float64\n"
     ]
    }
   ],
   "source": [
    "xtrain, xtest, ytrain, ytest = train_test_split(X, y, test_size=0.2, random_state=42)\n",
    "print(X.dtype)"
   ]
  },
  {
   "cell_type": "code",
   "execution_count": 120,
   "metadata": {},
   "outputs": [],
   "source": [
    "\n",
    "# Implent XGBoostClassifier with pandas dataframe with X and y\n",
    "xgb = XGBClassifier(booster='gbtree', learning_rate=0.1, max_depth=5)\n",
    "\n"
   ]
  },
  {
   "cell_type": "code",
   "execution_count": 121,
   "metadata": {},
   "outputs": [
    {
     "name": "stderr",
     "output_type": "stream",
     "text": [
      "C:\\Users\\12678\\PycharmProjects\\PyCharmSetup\\venv\\lib\\site-packages\\xgboost\\sklearn.py:1224: UserWarning: The use of label encoder in XGBClassifier is deprecated and will be removed in a future release. To remove this warning, do the following: 1) Pass option use_label_encoder=False when constructing XGBClassifier object; and 2) Encode your labels (y) as integers starting with 0, i.e. 0, 1, 2, ..., [num_class - 1].\n",
      "  warnings.warn(label_encoder_deprecation_msg, UserWarning)\n"
     ]
    },
    {
     "name": "stdout",
     "output_type": "stream",
     "text": [
      "[12:47:51] WARNING: C:/Users/Administrator/workspace/xgboost-win64_release_1.5.1/src/learner.cc:1115: Starting in XGBoost 1.3.0, the default evaluation metric used with the objective 'binary:logistic' was changed from 'error' to 'logloss'. Explicitly set eval_metric if you'd like to restore the old behavior.\n"
     ]
    },
    {
     "data": {
      "text/plain": [
       "XGBClassifier(base_score=0.5, booster='gbtree', colsample_bylevel=1,\n",
       "              colsample_bynode=1, colsample_bytree=1, enable_categorical=False,\n",
       "              gamma=0, gpu_id=-1, importance_type=None,\n",
       "              interaction_constraints='', learning_rate=0.1, max_delta_step=0,\n",
       "              max_depth=5, min_child_weight=1, missing=nan,\n",
       "              monotone_constraints='()', n_estimators=100, n_jobs=8,\n",
       "              num_parallel_tree=1, predictor='auto', random_state=0,\n",
       "              reg_alpha=0, reg_lambda=1, scale_pos_weight=1, subsample=1,\n",
       "              tree_method='exact', validate_parameters=1, verbosity=None)"
      ]
     },
     "execution_count": 121,
     "metadata": {},
     "output_type": "execute_result"
    }
   ],
   "source": [
    "\n",
    "# Fitting Data\n",
    "xgb.fit(xtrain, ytrain)"
   ]
  },
  {
   "cell_type": "code",
   "execution_count": null,
   "metadata": {},
   "outputs": [],
   "source": []
  }
 ],
 "metadata": {
  "interpreter": {
   "hash": "3e9f8e566fb4d65fc9d16c55cff93cabc17b492ac70c6fd446a474a084d8dc69"
  },
  "kernelspec": {
   "display_name": "Python 3.9.1 64-bit (system)",
   "language": "python",
   "name": "python3"
  },
  "language_info": {
   "codemirror_mode": {
    "name": "ipython",
    "version": 3
   },
   "file_extension": ".py",
   "mimetype": "text/x-python",
   "name": "python",
   "nbconvert_exporter": "python",
   "pygments_lexer": "ipython3",
   "version": "3.9.1"
  },
  "orig_nbformat": 4
 },
 "nbformat": 4,
 "nbformat_minor": 2
}
